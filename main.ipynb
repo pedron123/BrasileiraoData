{
 "cells": [
  {
   "cell_type": "code",
   "execution_count": 1,
   "metadata": {},
   "outputs": [],
   "source": [
    "import requests\n",
    "import json\n",
    "import csv\n",
    "import pandas as pd\n",
    "import os"
   ]
  },
  {
   "cell_type": "code",
   "execution_count": 2,
   "metadata": {},
   "outputs": [],
   "source": [
    "# Constants\n",
    "API_BASE_URL = \"https://api.globoesporte.globo.com/tabela/d1a37fa4-e948-43a6-ba53-ab24ab3a45b1/fase/fase-unica-campeonato-brasileiro-2023/rodada/\"\n",
    "csv_filename = \"matches.csv\""
   ]
  },
  {
   "cell_type": "code",
   "execution_count": 3,
   "metadata": {},
   "outputs": [],
   "source": [
    "# Function to get the results for the first round of a championship\n",
    "def get_round_results(round):\n",
    "    endpoint = f\"{round}/jogos/\"\n",
    "    response = requests.get(API_BASE_URL + endpoint) # , headers=headers)\n",
    "    response.encoding = 'utf-8'\n",
    "    return response.json()"
   ]
  },
  {
   "cell_type": "code",
   "execution_count": 4,
   "metadata": {},
   "outputs": [
    {
     "name": "stdout",
     "output_type": "stream",
     "text": [
      "Tests Passed!\n"
     ]
    }
   ],
   "source": [
    "# define and run test to see if format and length being received are correct\n",
    "def test__get_round_results():\n",
    "    response = get_round_results(1)\n",
    "    if type(response) != type([]):\n",
    "        print('Error: Response format invalid\\nFormat: ', type(response))\n",
    "        return\n",
    "    if len(response) != 10:\n",
    "        print('Error: Response length not correct\\nLength: ', len(response))\n",
    "        return\n",
    "    print('Tests Passed!')\n",
    "\n",
    "test__get_round_results()"
   ]
  },
  {
   "cell_type": "code",
   "execution_count": 5,
   "metadata": {},
   "outputs": [],
   "source": [
    "# function that writes all match details in the round to a csv\n",
    "def add_matches_to_csv(matches_in_round, championship_round_id, csv_filename):\n",
    "\n",
    "    with open(csv_filename, mode='a', newline='', encoding='utf-8') as file:\n",
    "        csv_writer = csv.writer(file)\n",
    "\n",
    "        for match in matches_in_round:\n",
    "            date = match.get('data_realizacao', '').split('T')[0]\n",
    "            time = match.get('hora_realizacao', '')\n",
    "            home_team_name = match.get('equipes', {}).get('mandante', {}).get('nome_popular', '')\n",
    "            away_team_name = match.get('equipes', {}).get('visitante', {}).get('nome_popular', '')\n",
    "            home_team_score = match.get('placar_oficial_mandante', '')\n",
    "            away_team_score = match.get('placar_oficial_visitante', '')\n",
    "            stadium_name = match.get('sede', {}).get('nome_popular', '')\n",
    "\n",
    "            csv_writer.writerow([date, time, home_team_name, away_team_name, home_team_score, away_team_score, championship_round_id, stadium_name])"
   ]
  },
  {
   "cell_type": "code",
   "execution_count": null,
   "metadata": {},
   "outputs": [],
   "source": [
    "def add_headers_to_csv(csv_filename):\n",
    "    with open(csv_filename, mode='a', newline='', encoding='utf-8') as file:\n",
    "        csv_writer = csv.writer(file)\n",
    "        csv_writer.writerow(['date', 'time', 'home_team_name', 'away_team_name', 'home_team_score', 'away_team_score', 'championship_round_id', 'stadium_name'])"
   ]
  },
  {
   "cell_type": "code",
   "execution_count": 6,
   "metadata": {},
   "outputs": [],
   "source": [
    "#function that writes all matches in the championship up to a given round on a csv\n",
    "def add_all_matches_to_csv(final_round, csv_filename):\n",
    "    for i in range(1,final_round+1):\n",
    "        round_results = get_round_results(i)\n",
    "        add_matches_to_csv(round_results,i,csv_filename)\n",
    "        "
   ]
  },
  {
   "cell_type": "code",
   "execution_count": 7,
   "metadata": {},
   "outputs": [],
   "source": [
    "# write csv file with all match details\n",
    "add_all_matches_to_csv(33, csv_filename)"
   ]
  },
  {
   "cell_type": "code",
   "execution_count": 10,
   "metadata": {},
   "outputs": [
    {
     "data": {
      "text/html": [
       "<div>\n",
       "<style scoped>\n",
       "    .dataframe tbody tr th:only-of-type {\n",
       "        vertical-align: middle;\n",
       "    }\n",
       "\n",
       "    .dataframe tbody tr th {\n",
       "        vertical-align: top;\n",
       "    }\n",
       "\n",
       "    .dataframe thead th {\n",
       "        text-align: right;\n",
       "    }\n",
       "</style>\n",
       "<table border=\"1\" class=\"dataframe\">\n",
       "  <thead>\n",
       "    <tr style=\"text-align: right;\">\n",
       "      <th></th>\n",
       "      <th>date</th>\n",
       "      <th>time</th>\n",
       "      <th>home_team_name</th>\n",
       "      <th>away_team_name</th>\n",
       "      <th>home_team_score</th>\n",
       "      <th>away_team_score</th>\n",
       "      <th>championship_round_id</th>\n",
       "      <th>stadium_name</th>\n",
       "    </tr>\n",
       "  </thead>\n",
       "  <tbody>\n",
       "    <tr>\n",
       "      <th>0</th>\n",
       "      <td>2023-04-15</td>\n",
       "      <td>16:00</td>\n",
       "      <td>Palmeiras</td>\n",
       "      <td>Cuiabá</td>\n",
       "      <td>2.0</td>\n",
       "      <td>1.0</td>\n",
       "      <td>1</td>\n",
       "      <td>Allianz Parque</td>\n",
       "    </tr>\n",
       "    <tr>\n",
       "      <th>1</th>\n",
       "      <td>2023-04-15</td>\n",
       "      <td>16:00</td>\n",
       "      <td>América-MG</td>\n",
       "      <td>Fluminense</td>\n",
       "      <td>0.0</td>\n",
       "      <td>3.0</td>\n",
       "      <td>1</td>\n",
       "      <td>Independência</td>\n",
       "    </tr>\n",
       "    <tr>\n",
       "      <th>2</th>\n",
       "      <td>2023-04-15</td>\n",
       "      <td>18:30</td>\n",
       "      <td>Botafogo</td>\n",
       "      <td>São Paulo</td>\n",
       "      <td>2.0</td>\n",
       "      <td>1.0</td>\n",
       "      <td>1</td>\n",
       "      <td>Nilton Santos (Engenhão)</td>\n",
       "    </tr>\n",
       "    <tr>\n",
       "      <th>3</th>\n",
       "      <td>2023-04-15</td>\n",
       "      <td>18:30</td>\n",
       "      <td>Bragantino</td>\n",
       "      <td>Bahia</td>\n",
       "      <td>2.0</td>\n",
       "      <td>1.0</td>\n",
       "      <td>1</td>\n",
       "      <td>Nabi Abi Chedid</td>\n",
       "    </tr>\n",
       "    <tr>\n",
       "      <th>4</th>\n",
       "      <td>2023-04-15</td>\n",
       "      <td>18:30</td>\n",
       "      <td>Athletico-PR</td>\n",
       "      <td>Goiás</td>\n",
       "      <td>2.0</td>\n",
       "      <td>0.0</td>\n",
       "      <td>1</td>\n",
       "      <td>Ligga Arena</td>\n",
       "    </tr>\n",
       "  </tbody>\n",
       "</table>\n",
       "</div>"
      ],
      "text/plain": [
       "         date   time home_team_name away_team_name  home_team_score  \\\n",
       "0  2023-04-15  16:00      Palmeiras         Cuiabá              2.0   \n",
       "1  2023-04-15  16:00     América-MG     Fluminense              0.0   \n",
       "2  2023-04-15  18:30       Botafogo      São Paulo              2.0   \n",
       "3  2023-04-15  18:30     Bragantino          Bahia              2.0   \n",
       "4  2023-04-15  18:30   Athletico-PR          Goiás              2.0   \n",
       "\n",
       "   away_team_score  championship_round_id              stadium_name  \n",
       "0              1.0                      1            Allianz Parque  \n",
       "1              3.0                      1             Independência  \n",
       "2              1.0                      1  Nilton Santos (Engenhão)  \n",
       "3              1.0                      1           Nabi Abi Chedid  \n",
       "4              0.0                      1               Ligga Arena  "
      ]
     },
     "execution_count": 10,
     "metadata": {},
     "output_type": "execute_result"
    }
   ],
   "source": [
    "# read from csv to pandas for data visualization\n",
    "all_matches = pd.read_csv(csv_filename)\n",
    "all_matches.head()"
   ]
  },
  {
   "cell_type": "code",
   "execution_count": 11,
   "metadata": {},
   "outputs": [],
   "source": [
    "# Save all team names\n",
    "team_names = all_matches[\"home_team_name\"].unique()"
   ]
  },
  {
   "cell_type": "markdown",
   "metadata": {},
   "source": [
    "### Data Storage Target"
   ]
  },
  {
   "cell_type": "markdown",
   "metadata": {},
   "source": [
    "Dictionary\n",
    "\n",
    "(Key) - String - Club Name\n",
    "(Value) - Array of Arrays - for each round, an array with: (Points, Victories, Draws, Losses, Goal Difference, Goals Scored, Goals Suffered, Round Ranking)"
   ]
  },
  {
   "cell_type": "code",
   "execution_count": 14,
   "metadata": {},
   "outputs": [],
   "source": [
    "# Function to calculate the points and other statistics for each team\n",
    "def calculate_team_stats(df):\n",
    "    team_stats = {}\n",
    "\n",
    "    for index, row in df.iterrows():\n",
    "        home_team = row['home_team_name']\n",
    "        away_team = row['away_team_name']\n",
    "        home_score = row['home_team_score']\n",
    "        away_score = row['away_team_score']\n",
    "        round_number = row['championship_round_id']\n",
    "\n",
    "        # Initialize team stats if not already present\n",
    "        if home_team not in team_stats:\n",
    "            team_stats[home_team] = []\n",
    "        if away_team not in team_stats:\n",
    "            team_stats[away_team] = []\n",
    "\n",
    "        # Calculate stats for each team\n",
    "        for team in [home_team, away_team]:\n",
    "            while len(team_stats[team]) < round_number:\n",
    "                # Previous round stats or initial stats\n",
    "                prev_stats = team_stats[team][-1] if team_stats[team] else [0, 0, 0, 0, 0, 0, 0, 0]\n",
    "                team_stats[team].append(prev_stats.copy())\n",
    "\n",
    "            # Get current round stats\n",
    "            current_stats = team_stats[team][-1]\n",
    "\n",
    "            # Check if scores are NaN\n",
    "            if pd.isna(home_score) or pd.isna(away_score):\n",
    "                # Skip updates if scores are NaN, keeping previous stats\n",
    "                continue\n",
    "\n",
    "            # Update stats based on this match\n",
    "            if team == home_team:\n",
    "                current_stats[1] += 1 if home_score > away_score else 0  # Wins\n",
    "                current_stats[2] += 1 if home_score == away_score else 0  # Draws\n",
    "                current_stats[3] += 1 if home_score < away_score else 0  # Losses\n",
    "                current_stats[4] += home_score - away_score # Goal difference\n",
    "                current_stats[5] += home_score   # Goals scored\n",
    "                current_stats[6] += away_score   # Goals suffered\n",
    "            else:\n",
    "                current_stats[1] += 1 if away_score > home_score else 0  # Wins\n",
    "                current_stats[2] += 1 if away_score == home_score else 0  # Draws\n",
    "                current_stats[3] += 1 if away_score < home_score else 0  # Losses\n",
    "                current_stats[4] += away_score - home_score # Goal difference\n",
    "                current_stats[5] += away_score # Goals scored\n",
    "                current_stats[6] += home_score # Goals suffered\n",
    "\n",
    "            # Update points (3 for a win, 1 for a draw)\n",
    "            current_stats[0] = current_stats[1] * 3 + current_stats[2]\n",
    "            current_stats[7] = round_number\n",
    "\n",
    "    return team_stats"
   ]
  },
  {
   "cell_type": "code",
   "execution_count": 15,
   "metadata": {},
   "outputs": [],
   "source": [
    "# write dicstionary for all teams\n",
    "teams_evolution = calculate_team_stats(all_matches)"
   ]
  },
  {
   "cell_type": "markdown",
   "metadata": {},
   "source": [
    "### Data Storage Target"
   ]
  },
  {
   "cell_type": "markdown",
   "metadata": {},
   "source": [
    "Dictionary\n",
    "\n",
    "(Key) - String - Club Name\n",
    "(Value) - Array - Total Points after each round"
   ]
  },
  {
   "cell_type": "code",
   "execution_count": 16,
   "metadata": {},
   "outputs": [],
   "source": [
    "# create simple dictionary following structure above\n",
    "\n",
    "def return_points(json_dict):\n",
    "    teams_points = {}\n",
    "    for key, value in teams_evolution.items():\n",
    "        teams_points[key] = []\n",
    "        for array in value:\n",
    "            teams_points[key].append(array[0])\n",
    "    return teams_points"
   ]
  },
  {
   "cell_type": "code",
   "execution_count": 17,
   "metadata": {},
   "outputs": [],
   "source": [
    "# save simple dictionary\n",
    "teams_points = return_points(teams_evolution)\n",
    "\n",
    "# Specify the filename for the JSON file\n",
    "json_filename = 'team_points.json'\n",
    "\n",
    "# Writing dictionary data to a JSON file\n",
    "if not(os.path.exists(json_filename)):\n",
    "    with open(json_filename, 'w', encoding='utf-8') as file:\n",
    "        json.dump(teams_points, file, ensure_ascii=False, indent=4)\n",
    "else:\n",
    "    print('File already exists at: ', json_filename, '\\nFunction did not write new data.')"
   ]
  }
 ],
 "metadata": {
  "kernelspec": {
   "display_name": "Python 3",
   "language": "python",
   "name": "python3"
  },
  "language_info": {
   "codemirror_mode": {
    "name": "ipython",
    "version": 3
   },
   "file_extension": ".py",
   "mimetype": "text/x-python",
   "name": "python",
   "nbconvert_exporter": "python",
   "pygments_lexer": "ipython3",
   "version": "3.12.0"
  }
 },
 "nbformat": 4,
 "nbformat_minor": 2
}
